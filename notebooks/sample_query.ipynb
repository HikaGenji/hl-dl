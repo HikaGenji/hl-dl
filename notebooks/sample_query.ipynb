{
 "cells": [
  {
   "cell_type": "code",
   "execution_count": 16,
   "id": "6c33ec83",
   "metadata": {},
   "outputs": [],
   "source": [
    "from github import Github\n",
    "import polars as pl\n",
    "import altair as alt\n",
    "\n",
    "url = \"HikaGenji/hl-dl\"\n",
    "g = Github()  # No authentication needed for public repos, but you can add a token for higher rate limits\n",
    "repo = g.get_repo(url)\n",
    "contents = repo.get_contents(\"data\")\n",
    "files = [content_file.path for content_file in contents]"
   ]
  },
  {
   "cell_type": "code",
   "execution_count": 3,
   "id": "0d10cf14",
   "metadata": {},
   "outputs": [
    {
     "name": "stdout",
     "output_type": "stream",
     "text": [
      "shape: (5, 17)\n",
      "┌───────────┬───────────┬───────────┬───────────┬───┬───────────┬───────────┬───────────┬──────────┐\n",
      "│ timestamp ┆ ethAddres ┆ accountVa ┆ displayNa ┆ … ┆ month_vol ┆ allTime_p ┆ allTime_r ┆ allTime_ │\n",
      "│ ---       ┆ s         ┆ lue       ┆ me        ┆   ┆ ume       ┆ nl        ┆ oi        ┆ volume   │\n",
      "│ str       ┆ ---       ┆ ---       ┆ ---       ┆   ┆ ---       ┆ ---       ┆ ---       ┆ ---      │\n",
      "│           ┆ str       ┆ f64       ┆ str       ┆   ┆ f64       ┆ f64       ┆ f64       ┆ f64      │\n",
      "╞═══════════╪═══════════╪═══════════╪═══════════╪═══╪═══════════╪═══════════╪═══════════╪══════════╡\n",
      "│ 2025-06-0 ┆ 0x162cc7c ┆ 2.4187e7  ┆ ABC       ┆ … ┆ 4.1088e10 ┆ 2.0885e7  ┆ 1.394246  ┆ 1.2319e1 │\n",
      "│ 8T08:44:1 ┆ 861ebd0c0 ┆           ┆           ┆   ┆           ┆           ┆           ┆ 1        │\n",
      "│ 6.170503  ┆ 6b3d72319 ┆           ┆           ┆   ┆           ┆           ┆           ┆          │\n",
      "│           ┆ 201…      ┆           ┆           ┆   ┆           ┆           ┆           ┆          │\n",
      "│ 2025-06-0 ┆ 0x7b7f72a ┆ 4.4092e6  ┆ beatmaker ┆ … ┆ 2.3812e10 ┆ -2.4056e6 ┆ -0.352996 ┆ 6.0677e1 │\n",
      "│ 8T08:44:1 ┆ 28fe109fa ┆           ┆ 1@proton. ┆   ┆           ┆           ┆           ┆ 0        │\n",
      "│ 6.170538  ┆ 703eeed79 ┆           ┆ me        ┆   ┆           ┆           ┆           ┆          │\n",
      "│           ┆ 84f…      ┆           ┆           ┆   ┆           ┆           ┆           ┆          │\n",
      "│ 2025-06-0 ┆ 0xff4cd38 ┆ 2.5869e7  ┆ null      ┆ … ┆ 2.0641e10 ┆ 2.2426e7  ┆ 2.451787  ┆ 9.4898e1 │\n",
      "│ 8T08:44:1 ┆ 26ecee12a ┆           ┆           ┆   ┆           ┆           ┆           ┆ 0        │\n",
      "│ 6.170559  ┆ cd4329aad ┆           ┆           ┆   ┆           ┆           ┆           ┆          │\n",
      "│           ┆ a4a…      ┆           ┆           ┆   ┆           ┆           ┆           ┆          │\n",
      "│ 2025-06-0 ┆ 0xecb63ca ┆ 1.0611e8  ┆ null      ┆ … ┆ 1.6626e10 ┆ 9.2650e7  ┆ 0.917904  ┆ 1.1691e1 │\n",
      "│ 8T08:44:1 ┆ a47c7c4e7 ┆           ┆           ┆   ┆           ┆           ┆           ┆ 1        │\n",
      "│ 6.170589  ┆ 7f60f1ce8 ┆           ┆           ┆   ┆           ┆           ┆           ┆          │\n",
      "│           ┆ 58c…      ┆           ┆           ┆   ┆           ┆           ┆           ┆          │\n",
      "│ 2025-06-0 ┆ 0x5078c2f ┆ 450.9569  ┆ JamesWynn ┆ … ┆ 1.5828e10 ┆ -2.0481e7 ┆ -0.923866 ┆ 1.7837e1 │\n",
      "│ 8T08:44:1 ┆ bea2b2ad6 ┆           ┆ $moonpig  ┆   ┆           ┆           ┆           ┆ 0        │\n",
      "│ 6.170602  ┆ 1bc840bc0 ┆           ┆           ┆   ┆           ┆           ┆           ┆          │\n",
      "│           ┆ 23e…      ┆           ┆           ┆   ┆           ┆           ┆           ┆          │\n",
      "└───────────┴───────────┴───────────┴───────────┴───┴───────────┴───────────┴───────────┴──────────┘\n"
     ]
    }
   ],
   "source": [
    "import duckdb\n",
    "\n",
    "parquet_url = [f\"https://github.com/{url}/raw/main/{f}\" for f in files]\n",
    "\n",
    "# Example query: select columns and filter rows\n",
    "result = duckdb.query(f\"SELECT * FROM read_parquet({parquet_url})\").pl()\n",
    "\n",
    "print(result.head())\n"
   ]
  },
  {
   "cell_type": "code",
   "execution_count": 22,
   "id": "88489f7e",
   "metadata": {},
   "outputs": [
    {
     "data": {
      "text/html": [
       "\n",
       "<style>\n",
       "  #altair-viz-86d44ac0f0e546f49b9e476ed0d74cb6.vega-embed {\n",
       "    width: 100%;\n",
       "    display: flex;\n",
       "  }\n",
       "\n",
       "  #altair-viz-86d44ac0f0e546f49b9e476ed0d74cb6.vega-embed details,\n",
       "  #altair-viz-86d44ac0f0e546f49b9e476ed0d74cb6.vega-embed details summary {\n",
       "    position: relative;\n",
       "  }\n",
       "</style>\n",
       "<div id=\"altair-viz-86d44ac0f0e546f49b9e476ed0d74cb6\"></div>\n",
       "<script type=\"text/javascript\">\n",
       "  var VEGA_DEBUG = (typeof VEGA_DEBUG == \"undefined\") ? {} : VEGA_DEBUG;\n",
       "  (function(spec, embedOpt){\n",
       "    let outputDiv = document.currentScript.previousElementSibling;\n",
       "    if (outputDiv.id !== \"altair-viz-86d44ac0f0e546f49b9e476ed0d74cb6\") {\n",
       "      outputDiv = document.getElementById(\"altair-viz-86d44ac0f0e546f49b9e476ed0d74cb6\");\n",
       "    }\n",
       "\n",
       "    const paths = {\n",
       "      \"vega\": \"https://cdn.jsdelivr.net/npm/vega@5?noext\",\n",
       "      \"vega-lib\": \"https://cdn.jsdelivr.net/npm/vega-lib?noext\",\n",
       "      \"vega-lite\": \"https://cdn.jsdelivr.net/npm/vega-lite@5.20.1?noext\",\n",
       "      \"vega-embed\": \"https://cdn.jsdelivr.net/npm/vega-embed@6?noext\",\n",
       "    };\n",
       "\n",
       "    function maybeLoadScript(lib, version) {\n",
       "      var key = `${lib.replace(\"-\", \"\")}_version`;\n",
       "      return (VEGA_DEBUG[key] == version) ?\n",
       "        Promise.resolve(paths[lib]) :\n",
       "        new Promise(function(resolve, reject) {\n",
       "          var s = document.createElement('script');\n",
       "          document.getElementsByTagName(\"head\")[0].appendChild(s);\n",
       "          s.async = true;\n",
       "          s.onload = () => {\n",
       "            VEGA_DEBUG[key] = version;\n",
       "            return resolve(paths[lib]);\n",
       "          };\n",
       "          s.onerror = () => reject(`Error loading script: ${paths[lib]}`);\n",
       "          s.src = paths[lib];\n",
       "        });\n",
       "    }\n",
       "\n",
       "    function showError(err) {\n",
       "      outputDiv.innerHTML = `<div class=\"error\" style=\"color:red;\">${err}</div>`;\n",
       "      throw err;\n",
       "    }\n",
       "\n",
       "    function displayChart(vegaEmbed) {\n",
       "      vegaEmbed(outputDiv, spec, embedOpt)\n",
       "        .catch(err => showError(`Javascript Error: ${err.message}<br>This usually means there's a typo in your chart specification. See the javascript console for the full traceback.`));\n",
       "    }\n",
       "\n",
       "    if(typeof define === \"function\" && define.amd) {\n",
       "      requirejs.config({paths});\n",
       "      let deps = [\"vega-embed\"];\n",
       "      require(deps, displayChart, err => showError(`Error loading script: ${err.message}`));\n",
       "    } else {\n",
       "      maybeLoadScript(\"vega\", \"5\")\n",
       "        .then(() => maybeLoadScript(\"vega-lite\", \"5.20.1\"))\n",
       "        .then(() => maybeLoadScript(\"vega-embed\", \"6\"))\n",
       "        .catch(showError)\n",
       "        .then(() => displayChart(vegaEmbed));\n",
       "    }\n",
       "  })({\"config\": {\"view\": {\"continuousWidth\": 300, \"continuousHeight\": 300}}, \"data\": {\"name\": \"data-7079d43b52cfcd4e9a32e5bff3b5d34b\"}, \"mark\": {\"type\": \"line\"}, \"encoding\": {\"x\": {\"field\": \"timestamp\", \"type\": \"nominal\"}, \"y\": {\"field\": \"hour_pnl\", \"type\": \"quantitative\"}}, \"height\": 300, \"title\": \"hour pnl\", \"width\": 500, \"$schema\": \"https://vega.github.io/schema/vega-lite/v5.20.1.json\", \"datasets\": {\"data-7079d43b52cfcd4e9a32e5bff3b5d34b\": [{\"timestamp\": \"2025-06-08T08:44:16.170503\", \"day_pnl\": 311352.747239, \"hour_pnl\": 0.0}, {\"timestamp\": \"2025-06-08T09:16:18.303814\", \"day_pnl\": 311352.747239, \"hour_pnl\": 0.0}, {\"timestamp\": \"2025-06-08T10:16:48.365487\", \"day_pnl\": 303024.078121, \"hour_pnl\": -8328.669117999962}, {\"timestamp\": \"2025-06-08T11:13:15.930518\", \"day_pnl\": 299362.463377, \"hour_pnl\": -11990.283861999982}]}}, {\"mode\": \"vega-lite\"});\n",
       "</script>"
      ],
      "text/plain": [
       "alt.Chart(...)"
      ]
     },
     "execution_count": 22,
     "metadata": {},
     "output_type": "execute_result"
    }
   ],
   "source": [
    "user = '0x162cc7c861ebd0c06b3d72319201150482518185'\n",
    "p = result.filter(pl.col('ethAddress')==user).select('timestamp', pl.col('day_pnl')).\\\n",
    "           with_columns(pl.col('day_pnl').sub(pl.col('day_pnl').first()).fill_null(0).alias('hour_pnl'))\n",
    "chart = alt.Chart(p).mark_line().encode(\n",
    "    x='timestamp',\n",
    "    y='hour_pnl'\n",
    ").properties(\n",
    "    width=500,\n",
    "    height=300,\n",
    "    title=\"hour pnl\"\n",
    ")\n",
    "chart"
   ]
  }
 ],
 "metadata": {
  "kernelspec": {
   "display_name": ".venv",
   "language": "python",
   "name": "python3"
  },
  "language_info": {
   "codemirror_mode": {
    "name": "ipython",
    "version": 3
   },
   "file_extension": ".py",
   "mimetype": "text/x-python",
   "name": "python",
   "nbconvert_exporter": "python",
   "pygments_lexer": "ipython3",
   "version": "3.12.3"
  }
 },
 "nbformat": 4,
 "nbformat_minor": 5
}
