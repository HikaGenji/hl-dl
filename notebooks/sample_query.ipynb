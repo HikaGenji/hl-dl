{
 "cells": [
  {
   "cell_type": "code",
   "execution_count": null,
   "id": "6c33ec83",
   "metadata": {},
   "outputs": [],
   "source": [
    "from github import Github\n",
    "import polars as pl\n",
    "import seaborn as sns\n",
    "import matplotlib.pyplot as plt\n",
    "\n",
    "url = \"HikaGenji/hl-dl\"\n",
    "g = Github()  # No authentication needed for public repos, but you can add a token for higher rate limits\n",
    "repo = g.get_repo(url)\n",
    "contents = repo.get_contents(\"data\")\n",
    "files = [content_file.path for content_file in contents]"
   ]
  },
  {
   "cell_type": "code",
   "execution_count": null,
   "id": "0d10cf14",
   "metadata": {},
   "outputs": [
    {
     "name": "stdout",
     "output_type": "stream",
     "text": [
      "shape: (5, 17)\n",
      "┌───────────┬───────────┬───────────┬───────────┬───┬───────────┬───────────┬───────────┬──────────┐\n",
      "│ timestamp ┆ ethAddres ┆ accountVa ┆ displayNa ┆ … ┆ month_vol ┆ allTime_p ┆ allTime_r ┆ allTime_ │\n",
      "│ ---       ┆ s         ┆ lue       ┆ me        ┆   ┆ ume       ┆ nl        ┆ oi        ┆ volume   │\n",
      "│ str       ┆ ---       ┆ ---       ┆ ---       ┆   ┆ ---       ┆ ---       ┆ ---       ┆ ---      │\n",
      "│           ┆ str       ┆ f64       ┆ str       ┆   ┆ f64       ┆ f64       ┆ f64       ┆ f64      │\n",
      "╞═══════════╪═══════════╪═══════════╪═══════════╪═══╪═══════════╪═══════════╪═══════════╪══════════╡\n",
      "│ 2025-06-0 ┆ 0x162cc7c ┆ 2.4187e7  ┆ ABC       ┆ … ┆ 4.1088e10 ┆ 2.0885e7  ┆ 1.394246  ┆ 1.2319e1 │\n",
      "│ 8T08:44:1 ┆ 861ebd0c0 ┆           ┆           ┆   ┆           ┆           ┆           ┆ 1        │\n",
      "│ 6.170503  ┆ 6b3d72319 ┆           ┆           ┆   ┆           ┆           ┆           ┆          │\n",
      "│           ┆ 201…      ┆           ┆           ┆   ┆           ┆           ┆           ┆          │\n",
      "│ 2025-06-0 ┆ 0x7b7f72a ┆ 4.4092e6  ┆ beatmaker ┆ … ┆ 2.3812e10 ┆ -2.4056e6 ┆ -0.352996 ┆ 6.0677e1 │\n",
      "│ 8T08:44:1 ┆ 28fe109fa ┆           ┆ 1@proton. ┆   ┆           ┆           ┆           ┆ 0        │\n",
      "│ 6.170538  ┆ 703eeed79 ┆           ┆ me        ┆   ┆           ┆           ┆           ┆          │\n",
      "│           ┆ 84f…      ┆           ┆           ┆   ┆           ┆           ┆           ┆          │\n",
      "│ 2025-06-0 ┆ 0xff4cd38 ┆ 2.5869e7  ┆ null      ┆ … ┆ 2.0641e10 ┆ 2.2426e7  ┆ 2.451787  ┆ 9.4898e1 │\n",
      "│ 8T08:44:1 ┆ 26ecee12a ┆           ┆           ┆   ┆           ┆           ┆           ┆ 0        │\n",
      "│ 6.170559  ┆ cd4329aad ┆           ┆           ┆   ┆           ┆           ┆           ┆          │\n",
      "│           ┆ a4a…      ┆           ┆           ┆   ┆           ┆           ┆           ┆          │\n",
      "│ 2025-06-0 ┆ 0xecb63ca ┆ 1.0611e8  ┆ null      ┆ … ┆ 1.6626e10 ┆ 9.2650e7  ┆ 0.917904  ┆ 1.1691e1 │\n",
      "│ 8T08:44:1 ┆ a47c7c4e7 ┆           ┆           ┆   ┆           ┆           ┆           ┆ 1        │\n",
      "│ 6.170589  ┆ 7f60f1ce8 ┆           ┆           ┆   ┆           ┆           ┆           ┆          │\n",
      "│           ┆ 58c…      ┆           ┆           ┆   ┆           ┆           ┆           ┆          │\n",
      "│ 2025-06-0 ┆ 0x5078c2f ┆ 450.9569  ┆ JamesWynn ┆ … ┆ 1.5828e10 ┆ -2.0481e7 ┆ -0.923866 ┆ 1.7837e1 │\n",
      "│ 8T08:44:1 ┆ bea2b2ad6 ┆           ┆ $moonpig  ┆   ┆           ┆           ┆           ┆ 0        │\n",
      "│ 6.170602  ┆ 1bc840bc0 ┆           ┆           ┆   ┆           ┆           ┆           ┆          │\n",
      "│           ┆ 23e…      ┆           ┆           ┆   ┆           ┆           ┆           ┆          │\n",
      "└───────────┴───────────┴───────────┴───────────┴───┴───────────┴───────────┴───────────┴──────────┘\n"
     ]
    }
   ],
   "source": [
    "import duckdb\n",
    "\n",
    "parquet_url = [f\"https://github.com/{url}/raw/main/{f}\" for f in files]\n",
    "\n",
    "# Example query: select columns and filter rows\n",
    "result = duckdb.query(f\"SELECT * FROM read_parquet({parquet_url})\").pl()\n",
    "\n",
    "print(result.head())\n"
   ]
  },
  {
   "cell_type": "code",
   "execution_count": 42,
   "id": "c38b1c2c",
   "metadata": {},
   "outputs": [],
   "source": [
    "df = result.select('timestamp', 'ethAddress', pl.col('allTime_pnl').diff().over(partition_by='ethAddress').fill_null(0).alias('hour_pnl'),\n",
    "                             pl.col('allTime_volume').diff().over(partition_by='ethAddress').fill_null(0).alias('hour_volume'))\n",
    "                             "
   ]
  },
  {
   "cell_type": "code",
   "execution_count": 43,
   "id": "5b571d5f",
   "metadata": {},
   "outputs": [],
   "source": [
    "stats = df.group_by('ethAddress').agg(pl.col('hour_pnl').mean().alias('mean_hour_pnl'), \n",
    "                              pl.col('hour_pnl').std().alias('std_hour_pnl'),\n",
    "                              pl.col('hour_volume').sum().alias('volume')).\\\n",
    "                              with_columns(pl.col('mean_hour_pnl').truediv(pl.col('std_hour_pnl')).alias('sharpe')).\\\n",
    "                              filter(pl.col('sharpe').is_not_null(),\n",
    "                                     pl.col('sharpe').is_not_nan()).\\\n",
    "                              sort('sharpe', descending=True)"
   ]
  },
  {
   "cell_type": "code",
   "execution_count": 49,
   "id": "e50ac2e8",
   "metadata": {},
   "outputs": [
    {
     "data": {
      "text/html": [
       "<div><style>\n",
       ".dataframe > thead > tr,\n",
       ".dataframe > tbody > tr {\n",
       "  text-align: right;\n",
       "  white-space: pre-wrap;\n",
       "}\n",
       "</style>\n",
       "<small>shape: (39, 5)</small><table border=\"1\" class=\"dataframe\"><thead><tr><th>ethAddress</th><th>mean_hour_pnl</th><th>std_hour_pnl</th><th>volume</th><th>sharpe</th></tr><tr><td>str</td><td>f64</td><td>f64</td><td>f64</td><td>f64</td></tr></thead><tbody><tr><td>&quot;0x4fbc1cd366c5a9203a878089f9b0…</td><td>6330.621099</td><td>6518.952045</td><td>5.4406e6</td><td>0.97111</td></tr><tr><td>&quot;0x44cd38994fbf89db3f7fa9465ca4…</td><td>397.573815</td><td>456.827797</td><td>605448.99097</td><td>0.870293</td></tr><tr><td>&quot;0xdcac85ecae7148886029c20e661d…</td><td>18531.973273</td><td>23185.448434</td><td>4.7529e6</td><td>0.799293</td></tr><tr><td>&quot;0x7c4b71c1d8a11ed426f301c372a7…</td><td>2886.210969</td><td>3723.374084</td><td>1.3667e7</td><td>0.77516</td></tr><tr><td>&quot;0x67ce2b979ee9615cdf634e6043ac…</td><td>92.004636</td><td>122.047604</td><td>824.148</td><td>0.753842</td></tr><tr><td>&hellip;</td><td>&hellip;</td><td>&hellip;</td><td>&hellip;</td><td>&hellip;</td></tr><tr><td>&quot;0xc070a046a5e4e1d16f6fe340cca0…</td><td>32.492991</td><td>64.016802</td><td>125437.0</td><td>0.50757</td></tr><tr><td>&quot;0x200159c7f753fbd7c08f16382746…</td><td>0.803554</td><td>1.584439</td><td>393.035488</td><td>0.507154</td></tr><tr><td>&quot;0xc66f4198c3b132b38017d76c6fed…</td><td>0.823468</td><td>1.624503</td><td>1518.13571</td><td>0.506905</td></tr><tr><td>&quot;0x42641be99e32941b674630d06e51…</td><td>115.497742</td><td>228.625008</td><td>270544.16012</td><td>0.505184</td></tr><tr><td>&quot;0x364b3257e5977d16435d652c9a81…</td><td>1.743201</td><td>3.459282</td><td>2600.75518</td><td>0.50392</td></tr></tbody></table></div>"
      ],
      "text/plain": [
       "shape: (39, 5)\n",
       "┌─────────────────────────────────┬───────────────┬──────────────┬──────────────┬──────────┐\n",
       "│ ethAddress                      ┆ mean_hour_pnl ┆ std_hour_pnl ┆ volume       ┆ sharpe   │\n",
       "│ ---                             ┆ ---           ┆ ---          ┆ ---          ┆ ---      │\n",
       "│ str                             ┆ f64           ┆ f64          ┆ f64          ┆ f64      │\n",
       "╞═════════════════════════════════╪═══════════════╪══════════════╪══════════════╪══════════╡\n",
       "│ 0x4fbc1cd366c5a9203a878089f9b0… ┆ 6330.621099   ┆ 6518.952045  ┆ 5.4406e6     ┆ 0.97111  │\n",
       "│ 0x44cd38994fbf89db3f7fa9465ca4… ┆ 397.573815    ┆ 456.827797   ┆ 605448.99097 ┆ 0.870293 │\n",
       "│ 0xdcac85ecae7148886029c20e661d… ┆ 18531.973273  ┆ 23185.448434 ┆ 4.7529e6     ┆ 0.799293 │\n",
       "│ 0x7c4b71c1d8a11ed426f301c372a7… ┆ 2886.210969   ┆ 3723.374084  ┆ 1.3667e7     ┆ 0.77516  │\n",
       "│ 0x67ce2b979ee9615cdf634e6043ac… ┆ 92.004636     ┆ 122.047604   ┆ 824.148      ┆ 0.753842 │\n",
       "│ …                               ┆ …             ┆ …            ┆ …            ┆ …        │\n",
       "│ 0xc070a046a5e4e1d16f6fe340cca0… ┆ 32.492991     ┆ 64.016802    ┆ 125437.0     ┆ 0.50757  │\n",
       "│ 0x200159c7f753fbd7c08f16382746… ┆ 0.803554      ┆ 1.584439     ┆ 393.035488   ┆ 0.507154 │\n",
       "│ 0xc66f4198c3b132b38017d76c6fed… ┆ 0.823468      ┆ 1.624503     ┆ 1518.13571   ┆ 0.506905 │\n",
       "│ 0x42641be99e32941b674630d06e51… ┆ 115.497742    ┆ 228.625008   ┆ 270544.16012 ┆ 0.505184 │\n",
       "│ 0x364b3257e5977d16435d652c9a81… ┆ 1.743201      ┆ 3.459282     ┆ 2600.75518   ┆ 0.50392  │\n",
       "└─────────────────────────────────┴───────────────┴──────────────┴──────────────┴──────────┘"
      ]
     },
     "execution_count": 49,
     "metadata": {},
     "output_type": "execute_result"
    }
   ],
   "source": [
    "stats.filter(pl.col('volume')>0, pl.col('sharpe')>0.5)"
   ]
  }
 ],
 "metadata": {
  "kernelspec": {
   "display_name": ".venv",
   "language": "python",
   "name": "python3"
  },
  "language_info": {
   "codemirror_mode": {
    "name": "ipython",
    "version": 3
   },
   "file_extension": ".py",
   "mimetype": "text/x-python",
   "name": "python",
   "nbconvert_exporter": "python",
   "pygments_lexer": "ipython3",
   "version": "3.12.3"
  }
 },
 "nbformat": 4,
 "nbformat_minor": 5
}
