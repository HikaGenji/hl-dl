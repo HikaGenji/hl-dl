{
 "cells": [
  {
   "cell_type": "code",
   "execution_count": 1,
   "id": "6c33ec83",
   "metadata": {},
   "outputs": [],
   "source": [
    "from github import Github\n",
    "\n",
    "url = \"HikaGenji/hl-dl\"\n",
    "g = Github()  # No authentication needed for public repos, but you can add a token for higher rate limits\n",
    "repo = g.get_repo(url)\n",
    "contents = repo.get_contents(\"data\")\n",
    "files = [content_file.path for content_file in contents]"
   ]
  },
  {
   "cell_type": "code",
   "execution_count": 4,
   "id": "0d10cf14",
   "metadata": {},
   "outputs": [
    {
     "name": "stdout",
     "output_type": "stream",
     "text": [
      "                    timestamp                                  ethAddress  \\\n",
      "0  2025-06-07T12:36:00.763501  0x162cc7c861ebd0c06b3d72319201150482518185   \n",
      "1  2025-06-07T12:36:00.763543  0x7b7f72a28fe109fa703eeed7984f2a8a68fedee2   \n",
      "2  2025-06-07T12:36:00.763563  0xff4cd3826ecee12acd4329aada4a2d3419fc463c   \n",
      "3  2025-06-07T12:36:00.763582  0xecb63caa47c7c4e77f60f1ce858cf28dc2b82b00   \n",
      "4  2025-06-07T12:36:00.763594  0x5078c2fbea2b2ad61bc840bc023e35fce56bedb6   \n",
      "\n",
      "   accountValue           displayName  prize        day_pnl       day_roi  \\\n",
      "0  2.393132e+07                   ABC      0  377343.541175  1.336961e-02   \n",
      "1  4.290938e+06  beatmaker1@proton.me      0  214309.023703  5.740059e-02   \n",
      "2  2.564262e+07                  None      0  594199.911583  2.873628e-02   \n",
      "3  1.062553e+08                  None      0 -780001.125411 -1.364246e-02   \n",
      "4  7.109793e+00    JamesWynn $moonpig      0       0.410996  5.814000e-07   \n",
      "\n",
      "     day_volume      week_pnl  week_roi   week_volume     month_pnl  \\\n",
      "0  1.013503e+09  1.511376e+06  0.056398  8.087753e+09  6.538585e+06   \n",
      "1  4.774052e+08 -3.123787e+05 -0.067859  3.491171e+09 -1.693088e+06   \n",
      "2  2.853664e+08  7.829680e+05  0.031496  2.345918e+09  3.902555e+06   \n",
      "3  1.784428e+08  1.523089e+06  0.011542  1.917609e+09  1.121572e+07   \n",
      "4  0.000000e+00 -2.698928e+06 -0.688064  2.979528e+08 -3.021830e+07   \n",
      "\n",
      "   month_roi  month_volume   allTime_pnl  allTime_roi  allTime_volume  \n",
      "0   0.250989  4.228473e+10  2.062950e+07     1.377196    1.228310e+11  \n",
      "1  -0.282935  2.508636e+10 -2.523902e+06    -0.370354    6.046990e+10  \n",
      "2   0.179510  2.138962e+10  2.219946e+07     2.427034    9.478953e+10  \n",
      "3   0.062847  1.711674e+10  9.157331e+07     0.907235    1.168313e+11  \n",
      "4  -0.947100  1.584080e+10 -2.048080e+07    -0.923864    1.783706e+10  \n"
     ]
    }
   ],
   "source": [
    "import duckdb\n",
    "\n",
    "parquet_url = f\"https://github.com/{url}/raw/main/{files[0]}\"\n",
    "\n",
    "# Example query: select columns and filter rows\n",
    "result = duckdb.query(f\"\"\"\n",
    "    SELECT *\n",
    "    FROM '{parquet_url}'\n",
    "    LIMIT 100\n",
    "\"\"\").to_df()\n",
    "\n",
    "print(result.head())\n"
   ]
  }
 ],
 "metadata": {
  "kernelspec": {
   "display_name": ".venv",
   "language": "python",
   "name": "python3"
  },
  "language_info": {
   "codemirror_mode": {
    "name": "ipython",
    "version": 3
   },
   "file_extension": ".py",
   "mimetype": "text/x-python",
   "name": "python",
   "nbconvert_exporter": "python",
   "pygments_lexer": "ipython3",
   "version": "3.12.3"
  }
 },
 "nbformat": 4,
 "nbformat_minor": 5
}
