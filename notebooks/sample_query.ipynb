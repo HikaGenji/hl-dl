{
 "cells": [
  {
   "cell_type": "code",
   "execution_count": 23,
   "id": "6c33ec83",
   "metadata": {},
   "outputs": [],
   "source": [
    "from github import Github\n",
    "import polars as pl\n",
    "import altair as alt\n",
    "alt.renderers.enable('svg')\n",
    "\n",
    "url = \"HikaGenji/hl-dl\"\n",
    "g = Github()  # No authentication needed for public repos, but you can add a token for higher rate limits\n",
    "repo = g.get_repo(url)\n",
    "contents = repo.get_contents(\"data\")\n",
    "files = [content_file.path for content_file in contents]"
   ]
  },
  {
   "cell_type": "code",
   "execution_count": 3,
   "id": "0d10cf14",
   "metadata": {},
   "outputs": [
    {
     "name": "stdout",
     "output_type": "stream",
     "text": [
      "shape: (5, 17)\n",
      "┌───────────┬───────────┬───────────┬───────────┬───┬───────────┬───────────┬───────────┬──────────┐\n",
      "│ timestamp ┆ ethAddres ┆ accountVa ┆ displayNa ┆ … ┆ month_vol ┆ allTime_p ┆ allTime_r ┆ allTime_ │\n",
      "│ ---       ┆ s         ┆ lue       ┆ me        ┆   ┆ ume       ┆ nl        ┆ oi        ┆ volume   │\n",
      "│ str       ┆ ---       ┆ ---       ┆ ---       ┆   ┆ ---       ┆ ---       ┆ ---       ┆ ---      │\n",
      "│           ┆ str       ┆ f64       ┆ str       ┆   ┆ f64       ┆ f64       ┆ f64       ┆ f64      │\n",
      "╞═══════════╪═══════════╪═══════════╪═══════════╪═══╪═══════════╪═══════════╪═══════════╪══════════╡\n",
      "│ 2025-06-0 ┆ 0x162cc7c ┆ 2.4187e7  ┆ ABC       ┆ … ┆ 4.1088e10 ┆ 2.0885e7  ┆ 1.394246  ┆ 1.2319e1 │\n",
      "│ 8T08:44:1 ┆ 861ebd0c0 ┆           ┆           ┆   ┆           ┆           ┆           ┆ 1        │\n",
      "│ 6.170503  ┆ 6b3d72319 ┆           ┆           ┆   ┆           ┆           ┆           ┆          │\n",
      "│           ┆ 201…      ┆           ┆           ┆   ┆           ┆           ┆           ┆          │\n",
      "│ 2025-06-0 ┆ 0x7b7f72a ┆ 4.4092e6  ┆ beatmaker ┆ … ┆ 2.3812e10 ┆ -2.4056e6 ┆ -0.352996 ┆ 6.0677e1 │\n",
      "│ 8T08:44:1 ┆ 28fe109fa ┆           ┆ 1@proton. ┆   ┆           ┆           ┆           ┆ 0        │\n",
      "│ 6.170538  ┆ 703eeed79 ┆           ┆ me        ┆   ┆           ┆           ┆           ┆          │\n",
      "│           ┆ 84f…      ┆           ┆           ┆   ┆           ┆           ┆           ┆          │\n",
      "│ 2025-06-0 ┆ 0xff4cd38 ┆ 2.5869e7  ┆ null      ┆ … ┆ 2.0641e10 ┆ 2.2426e7  ┆ 2.451787  ┆ 9.4898e1 │\n",
      "│ 8T08:44:1 ┆ 26ecee12a ┆           ┆           ┆   ┆           ┆           ┆           ┆ 0        │\n",
      "│ 6.170559  ┆ cd4329aad ┆           ┆           ┆   ┆           ┆           ┆           ┆          │\n",
      "│           ┆ a4a…      ┆           ┆           ┆   ┆           ┆           ┆           ┆          │\n",
      "│ 2025-06-0 ┆ 0xecb63ca ┆ 1.0611e8  ┆ null      ┆ … ┆ 1.6626e10 ┆ 9.2650e7  ┆ 0.917904  ┆ 1.1691e1 │\n",
      "│ 8T08:44:1 ┆ a47c7c4e7 ┆           ┆           ┆   ┆           ┆           ┆           ┆ 1        │\n",
      "│ 6.170589  ┆ 7f60f1ce8 ┆           ┆           ┆   ┆           ┆           ┆           ┆          │\n",
      "│           ┆ 58c…      ┆           ┆           ┆   ┆           ┆           ┆           ┆          │\n",
      "│ 2025-06-0 ┆ 0x5078c2f ┆ 450.9569  ┆ JamesWynn ┆ … ┆ 1.5828e10 ┆ -2.0481e7 ┆ -0.923866 ┆ 1.7837e1 │\n",
      "│ 8T08:44:1 ┆ bea2b2ad6 ┆           ┆ $moonpig  ┆   ┆           ┆           ┆           ┆ 0        │\n",
      "│ 6.170602  ┆ 1bc840bc0 ┆           ┆           ┆   ┆           ┆           ┆           ┆          │\n",
      "│           ┆ 23e…      ┆           ┆           ┆   ┆           ┆           ┆           ┆          │\n",
      "└───────────┴───────────┴───────────┴───────────┴───┴───────────┴───────────┴───────────┴──────────┘\n"
     ]
    }
   ],
   "source": [
    "import duckdb\n",
    "\n",
    "parquet_url = [f\"https://github.com/{url}/raw/main/{f}\" for f in files]\n",
    "\n",
    "# Example query: select columns and filter rows\n",
    "result = duckdb.query(f\"SELECT * FROM read_parquet({parquet_url})\").pl()\n",
    "\n",
    "print(result.head())\n"
   ]
  },
  {
   "cell_type": "code",
   "execution_count": 26,
   "id": "88489f7e",
   "metadata": {},
   "outputs": [],
   "source": [
    "user = '0x162cc7c861ebd0c06b3d72319201150482518185'\n",
    "p = result.filter(pl.col('ethAddress')==user).select('timestamp', pl.col('day_pnl')).\\\n",
    "           with_columns(pl.col('day_pnl').sub(pl.col('day_pnl').first()).fill_null(0).alias('hour_pnl'))\n",
    "chart = alt.Chart(p).mark_line().encode(\n",
    "    x='timestamp',\n",
    "    y='hour_pnl'\n",
    ").properties(\n",
    "    width=500,\n",
    "    height=300,\n",
    "    title=\"hour pnl\"\n",
    ")\n",
    "chart.save('chart.svg')"
   ]
  }
 ],
 "metadata": {
  "kernelspec": {
   "display_name": ".venv",
   "language": "python",
   "name": "python3"
  },
  "language_info": {
   "codemirror_mode": {
    "name": "ipython",
    "version": 3
   },
   "file_extension": ".py",
   "mimetype": "text/x-python",
   "name": "python",
   "nbconvert_exporter": "python",
   "pygments_lexer": "ipython3",
   "version": "3.12.3"
  }
 },
 "nbformat": 4,
 "nbformat_minor": 5
}
