{
 "cells": [
  {
   "cell_type": "code",
   "execution_count": 3,
   "id": "6c33ec83",
   "metadata": {},
   "outputs": [],
   "source": [
    "from github import Github\n",
    "\n",
    "url = \"HikaGenji/hl-dl\"\n",
    "g = Github()  # No authentication needed for public repos, but you can add a token for higher rate limits\n",
    "repo = g.get_repo(url)\n",
    "contents = repo.get_contents(\"data\")\n",
    "files = [content_file.path for content_file in contents]"
   ]
  },
  {
   "cell_type": "code",
   "execution_count": 7,
   "id": "0d10cf14",
   "metadata": {},
   "outputs": [
    {
     "name": "stdout",
     "output_type": "stream",
     "text": [
      "                    timestamp                                  ethAddress  \\\n",
      "0  2025-06-08T08:44:16.170503  0x162cc7c861ebd0c06b3d72319201150482518185   \n",
      "1  2025-06-08T08:44:16.170538  0x7b7f72a28fe109fa703eeed7984f2a8a68fedee2   \n",
      "2  2025-06-08T08:44:16.170559  0xff4cd3826ecee12acd4329aada4a2d3419fc463c   \n",
      "3  2025-06-08T08:44:16.170589  0xecb63caa47c7c4e77f60f1ce858cf28dc2b82b00   \n",
      "4  2025-06-08T08:44:16.170602  0x5078c2fbea2b2ad61bc840bc023e35fce56bedb6   \n",
      "\n",
      "   accountValue           displayName  prize        day_pnl   day_roi  \\\n",
      "0  2.418672e+07                   ABC      0  311352.747239  0.013041   \n",
      "1  4.409231e+06  beatmaker1@proton.me      0  119521.738688  0.027862   \n",
      "2  2.586903e+07                  None      0  307412.526455  0.012026   \n",
      "3  1.061055e+08                  None      0  803549.984549  0.007523   \n",
      "4  4.509569e+02    JamesWynn $moonpig      0     -31.303114 -0.064909   \n",
      "\n",
      "     day_volume      week_pnl  week_roi   week_volume     month_pnl  \\\n",
      "0  4.305505e+08  1.470062e+06  0.054256  7.980391e+09  7.494845e+06   \n",
      "1  2.504640e+08 -2.473981e+05 -0.053128  3.429544e+09 -1.101644e+06   \n",
      "2  1.297844e+08  6.987707e+05  0.027762  2.347704e+09  6.362417e+06   \n",
      "3  9.939661e+07  2.416344e+06  0.018907  1.883854e+09  2.485607e+07   \n",
      "4  1.874663e+04 -2.901114e+06 -0.703038  2.938459e+08 -5.146470e+07   \n",
      "\n",
      "   month_roi  month_volume   allTime_pnl  allTime_roi  allTime_volume  \n",
      "0   0.295649  4.108835e+10  2.088490e+07     1.394246    1.231873e+11  \n",
      "1  -0.199904  2.381199e+10 -2.405609e+06    -0.352996    6.067707e+10  \n",
      "2   0.326167  2.064054e+10  2.242587e+07     2.451787    9.489774e+10  \n",
      "3   0.149829  1.662620e+10  9.265016e+07     0.917904    1.169142e+11  \n",
      "4  -0.968246  1.582812e+10 -2.048084e+07    -0.923866    1.783708e+10  \n"
     ]
    }
   ],
   "source": [
    "import duckdb\n",
    "\n",
    "parquet_url = [f\"https://github.com/{url}/raw/main/{f}\" for f in files]\n",
    "\n",
    "# Example query: select columns and filter rows\n",
    "result = duckdb.query(f\"SELECT * FROM read_parquet({parquet_url}) limit 100\").to_df()\n",
    "\n",
    "print(result.head())\n"
   ]
  }
 ],
 "metadata": {
  "kernelspec": {
   "display_name": ".venv",
   "language": "python",
   "name": "python3"
  },
  "language_info": {
   "codemirror_mode": {
    "name": "ipython",
    "version": 3
   },
   "file_extension": ".py",
   "mimetype": "text/x-python",
   "name": "python",
   "nbconvert_exporter": "python",
   "pygments_lexer": "ipython3",
   "version": "3.12.3"
  }
 },
 "nbformat": 4,
 "nbformat_minor": 5
}
